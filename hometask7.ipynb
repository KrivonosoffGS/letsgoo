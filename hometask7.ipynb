{
  "nbformat": 4,
  "nbformat_minor": 0,
  "metadata": {
    "colab": {
      "name": "hometask7.ipynb",
      "provenance": [],
      "authorship_tag": "ABX9TyMlpzllZ44Or3Gz12LoRNJv",
      "include_colab_link": true
    },
    "kernelspec": {
      "name": "python3",
      "display_name": "Python 3"
    },
    "language_info": {
      "name": "python"
    }
  },
  "cells": [
    {
      "cell_type": "markdown",
      "metadata": {
        "id": "view-in-github",
        "colab_type": "text"
      },
      "source": [
        "<a href=\"https://colab.research.google.com/github/KrivonosoffGS/letsgoo/blob/hometask7/hometask7.ipynb\" target=\"_parent\"><img src=\"https://colab.research.google.com/assets/colab-badge.svg\" alt=\"Open In Colab\"/></a>"
      ]
    },
    {
      "cell_type": "code",
      "source": [
        "from PIL import Image\n",
        "import matplotlib.pyplot as plt\n",
        "import numpy as np\n",
        "import pandas as pd\n",
        "import requests\n",
        "from io import BytesIO\n",
        "from mpl_toolkits.mplot3d import Axes3D\n",
        "from sklearn.decomposition import PCA\n",
        "\n",
        "url = 'https://mymodernmet.com/wp/wp-content/uploads/2017/08/monovision-awards-bw-series-of-the-year-2017-02.jpg'\n",
        "\n",
        "response = requests.get(url)\n",
        "img = Image.open(BytesIO(response.content)).convert('L')\n",
        "np.array(img)\n",
        "\n",
        "from sklearn.datasets import fetch_openml\n",
        "digits = fetch_openml('mnist_784')\n",
        "digits.data.shape\n",
        "\n",
        "images = digits.data.values.reshape(-1, 28, 28)\n",
        "\n",
        "from sklearn.decomposition import PCA\n",
        "pca = PCA(n_components=50)\n",
        "\n",
        "X_transformed = pca.fit_transform(digits.data.astype(float))\n",
        "X_restored = pca.inverse_transform(X_transformed)"
      ],
      "metadata": {
        "id": "Uis57SWXyYYu"
      },
      "execution_count": 12,
      "outputs": []
    },
    {
      "cell_type": "code",
      "source": [
        "%matplotlib inline\n",
        "i = 540\n",
        "fig, ax = plt.subplots(1, 2)\n",
        "ax[0].imshow(images[i], cmap='gray')\n",
        "ax[1].imshow(X_restored[i].reshape(28, 28), cmap='gray')\n",
        "ax[0].set_title('Original')\n",
        "ax[1].set_title('Restored')\n",
        "plt.show()"
      ],
      "metadata": {
        "colab": {
          "base_uri": "https://localhost:8080/",
          "height": 236
        },
        "id": "TdMsnEFCyITb",
        "outputId": "882bf94e-218e-47e0-e5c5-a90caa61dee2"
      },
      "execution_count": 13,
      "outputs": [
        {
          "output_type": "display_data",
          "data": {
            "image/png": "[encoded data removed]",
            "text/plain": [
              "<Figure size 432x288 with 2 Axes>"
            ]
          },
          "metadata": {
            "needs_background": "light"
          }
        }
      ]
    },
    {
      "cell_type": "markdown",
      "source": [
        "Задача 1\n",
        "\n",
        "Выпишите явное линейное преобразование, которое отображает точку из подространства главных компонент в исходное пространство (заполните ??? так, чтобы результат совпал с результатом в предыдущей ячейке)"
      ],
      "metadata": {
        "id": "7BG82X1ayGJ9"
      }
    },
    {
      "cell_type": "code",
      "source": [
        "res = np.dot(X_transformed, pca.components_) + pca.mean_\n",
        "\n",
        "i = 540\n",
        "fig, ax = plt.subplots(1, 2)\n",
        "ax[0].imshow(images[i], cmap='gray')\n",
        "ax[1].imshow(res[i].reshape(28, 28), cmap='gray')\n",
        "ax[0].set_title('Original')\n",
        "ax[1].set_title('Restored')\n",
        "plt.show()"
      ],
      "metadata": {
        "colab": {
          "base_uri": "https://localhost:8080/",
          "height": 236
        },
        "id": "Qp2bbV4v7IPD",
        "outputId": "65ea866f-d5b6-445a-edb4-8eee023e6738"
      },
      "execution_count": 14,
      "outputs": [
        {
          "output_type": "display_data",
          "data": {
            "image/png": "[encoded data removed]",
            "text/plain": [
              "<Figure size 432x288 with 2 Axes>"
            ]
          },
          "metadata": {
            "needs_background": "light"
          }
        }
      ]
    },
    {
      "cell_type": "markdown",
      "source": [
        "Задача 2\n",
        "\n",
        "Определите, сколько нужно взять главных компонент, чтобы объяснить 99%, 95%, 90%, и 85% исходной дисперсии."
      ],
      "metadata": {
        "id": "_PNtD3uM7Hzv"
      }
    },
    {
      "cell_type": "code",
      "source": [
        "pca = PCA()\n",
        "X_transformed = pca.fit_transform(digits.data.astype(float)) \n",
        "var = pca.explained_variance_ratio_.cumsum().round(2) * 100\n",
        "zeropoint100 = int(round(np.mean(np.where(var == 100))))\n",
        "print(zeropoint100, 'главных компонент для 100% aka Original')\n",
        "zeropoint99 = int(round(np.mean(np.where(var == 99))))\n",
        "print(zeropoint99, 'главных компонент для 99%')\n",
        "zeropoint95 = int(round(np.mean(np.where(var == 95))))\n",
        "print(zeropoint95, 'главных компонент для 95%')\n",
        "zeropoint90 = int(round(np.mean(np.where(var == 90))))\n",
        "print(zeropoint90, 'главных компонент для 90%')\n",
        "zeropoint85 = int(round(np.mean(np.where(var == 85))))\n",
        "print(zeropoint85, 'главных компонент для 85%')"
      ],
      "metadata": {
        "colab": {
          "base_uri": "https://localhost:8080/"
        },
        "id": "GhY4QredBmcv",
        "outputId": "3f0dd2d6-cfc9-4a7c-a537-9d4eea5e0839"
      },
      "execution_count": 15,
      "outputs": [
        {
          "output_type": "stream",
          "name": "stdout",
          "text": [
            "584 главных компонент для 100% aka Original\n",
            "338 главных компонент для 99%\n",
            "153 главных компонент для 95%\n",
            "86 главных компонент для 90%\n",
            "58 главных компонент для 85%\n"
          ]
        }
      ]
    },
    {
      "cell_type": "markdown",
      "source": [
        "Задача 3\n",
        "\n",
        "Нарисуйте пример исходного изображения и результат восстановления из числа компонент, которое вы нашли в предыдущей задаче."
      ],
      "metadata": {
        "id": "fNyIqZibI-Gd"
      }
    },
    {
      "cell_type": "code",
      "source": [
        "fig, ax = plt.subplots(1, 5,figsize=(20,20))\n",
        "ax[0].imshow(images[i], cmap='gray')\n",
        "\n",
        "pca99 = PCA(zeropoint99)\n",
        "trans99 = pca99.fit_transform(digits.data.astype(float))\n",
        "restored99 = pca99.inverse_transform(trans99)\n",
        "\n",
        "pca95 = PCA(zeropoint95)\n",
        "trans95 = pca95.fit_transform(digits.data.astype(float))\n",
        "restored95 = pca95.inverse_transform(trans95)\n",
        "\n",
        "pca90 = PCA(zeropoint90)\n",
        "trans90 = pca90.fit_transform(digits.data.astype(float))\n",
        "restored90 = pca90.inverse_transform(trans90)\n",
        "\n",
        "pca85 = PCA(zeropoint85)\n",
        "trans85 = pca85.fit_transform(digits.data.astype(float))\n",
        "restored85 = pca85.inverse_transform(trans85)\n",
        "\n",
        "ax[1].imshow(restored99[i].reshape(28, 28), cmap=\"gray\")\n",
        "ax[2].imshow(restored95[i].reshape(28, 28), cmap=\"gray\")\n",
        "ax[3].imshow(restored90[i].reshape(28, 28), cmap=\"gray\")\n",
        "ax[4].imshow(restored85[i].reshape(28, 28), cmap=\"gray\")\n",
        "ax[0].set_title(\"Original\")\n",
        "ax[0].set_xlabel(zeropoint100)\n",
        "ax[1].set_title(\"Restored with 99%\")\n",
        "ax[1].set_xlabel(zeropoint99)\n",
        "ax[2].set_title(\"Restored with 95%\")\n",
        "ax[2].set_xlabel(zeropoint95)\n",
        "ax[3].set_title(\"Restored with 90%\")\n",
        "ax[3].set_xlabel(zeropoint90)\n",
        "ax[4].set_title(\"Restored with 85%\")\n",
        "ax[4].set_xlabel(zeropoint85)"
      ],
      "metadata": {
        "colab": {
          "base_uri": "https://localhost:8080/",
          "height": 308
        },
        "id": "2BqVGBInKFBv",
        "outputId": "97883688-2af0-4343-c2e7-e7806c4994c5"
      },
      "execution_count": 16,
      "outputs": [
        {
          "output_type": "execute_result",
          "data": {
            "text/plain": [
              "Text(0.5, 0, '58')"
            ]
          },
          "metadata": {},
          "execution_count": 16
        },
        {
          "output_type": "display_data",
          "data": {
            "image/png": "[encoded data removed]",
            "text/plain": [
              "<Figure size 1440x1440 with 5 Axes>"
            ]
          },
          "metadata": {
            "needs_background": "light"
          }
        }
      ]
    }
  ]
}