{
  "nbformat": 4,
  "nbformat_minor": 0,
  "metadata": {
    "colab": {
      "name": "hometask1.ipynb",
      "provenance": [],
      "authorship_tag": "ABX9TyOhmHZwjV6RB0UFSSS6mpUf"
    },
    "kernelspec": {
      "name": "python3",
      "display_name": "Python 3"
    },
    "language_info": {
      "name": "python"
    }
  },
  "cells": [
    {
      "cell_type": "code",
      "metadata": {
        "id": "6c3QpqbBUqKU"
      },
      "source": [
        "class Test:\n",
        "    @staticmethod\n",
        "    def assert_equals(a, b, *args, **kwargs):\n",
        "        assert a == b\n",
        "        print('Passed')"
      ],
      "execution_count": 48,
      "outputs": []
    },
    {
      "cell_type": "markdown",
      "metadata": {
        "id": "I2LJG0mBkQFn"
      },
      "source": [
        "Problem https://edabit.com/challenge/YSTk5RMQQeocbAteg (2 points)"
      ]
    },
    {
      "cell_type": "code",
      "metadata": {
        "id": "rcP9dD-mkRMw"
      },
      "source": [
        "def tetra(n):\n",
        "  return (n * (n + 1) * (n + 2)) / 6"
      ],
      "execution_count": 36,
      "outputs": []
    },
    {
      "cell_type": "code",
      "metadata": {
        "colab": {
          "base_uri": "https://localhost:8080/"
        },
        "id": "Z1SZr9ORkfd5",
        "outputId": "a488c29b-3155-405c-c1a5-1db7b7020d00"
      },
      "source": [
        "lst_test = [1, 4, 10, 20, 35, 56, 84, 120, 165, 220, 286, 364, 455,\n",
        "            560, 680, 816, 969, 1140, 1330, 1540]\n",
        "\n",
        "for idx, i in enumerate(range(1, 21)):\n",
        "    Test.assert_equals(tetra(i), lst_test[idx])"
      ],
      "execution_count": 37,
      "outputs": [
        {
          "output_type": "stream",
          "name": "stdout",
          "text": [
            "Passed\n",
            "Passed\n",
            "Passed\n",
            "Passed\n",
            "Passed\n",
            "Passed\n",
            "Passed\n",
            "Passed\n",
            "Passed\n",
            "Passed\n",
            "Passed\n",
            "Passed\n",
            "Passed\n",
            "Passed\n",
            "Passed\n",
            "Passed\n",
            "Passed\n",
            "Passed\n",
            "Passed\n",
            "Passed\n"
          ]
        }
      ]
    },
    {
      "cell_type": "markdown",
      "metadata": {
        "id": "dJuf2K5kTyU7"
      },
      "source": [
        "Problem https://edabit.com/challenge/wFpi2zFGxWxfj5mZS (2 points)"
      ]
    },
    {
      "cell_type": "code",
      "metadata": {
        "id": "94gsyukEUPc9"
      },
      "source": [
        "def count_true(lst):\n",
        "\tk = 0\n",
        "\tfor x in lst:\n",
        "\t\tif x is True:\n",
        "\t\t\tk = k+1\n",
        "\treturn k"
      ],
      "execution_count": 38,
      "outputs": []
    },
    {
      "cell_type": "code",
      "metadata": {
        "id": "JxYrHelMUt8C",
        "colab": {
          "base_uri": "https://localhost:8080/"
        },
        "outputId": "827a15fa-8c22-4898-a1eb-764a17fc59e2"
      },
      "source": [
        "Test.assert_equals(count_true([True, False, False, True, False]), 2)\n",
        "Test.assert_equals(count_true([False, False, False, False]), 0)\n",
        "Test.assert_equals(count_true([]), 0)\n",
        "Test.assert_equals(count_true([False, False, True, True, False, False, False, True, True, True, True, False, True, True, False]), 8)\n",
        "Test.assert_equals(count_true([True, False, True, True, False, False, False, False, False]), 3)\n",
        "Test.assert_equals(count_true([False, True, True, False, True, True, False, True, False, True, False, True, False, True, False]), 8)\n",
        "Test.assert_equals(count_true([True, False, True, True, True, False, True, True, False, False]), 6)\n",
        "Test.assert_equals(count_true([False, False, False, False, True, False, True, False, True, False, False]), 3)\n",
        "Test.assert_equals(count_true([True, False, False, False, True, False, False, True, False, False, False]), 3)\n",
        "Test.assert_equals(count_true([True, True, False, True, False, False, False, False, True, False]), 4)\n",
        "Test.assert_equals(count_true([True, False, True, True, False, True, True, True, True, False, True, False, True, False]), 9)\n",
        "Test.assert_equals(count_true([True, False, True, True, True, True, False, True, True, False, True, False, False, False, False]), 8)\n",
        "Test.assert_equals(count_true([True, True, False, False, False, False, True, False, True, True, False, True]), 6)"
      ],
      "execution_count": 39,
      "outputs": [
        {
          "output_type": "stream",
          "name": "stdout",
          "text": [
            "Passed\n",
            "Passed\n",
            "Passed\n",
            "Passed\n",
            "Passed\n",
            "Passed\n",
            "Passed\n",
            "Passed\n",
            "Passed\n",
            "Passed\n",
            "Passed\n",
            "Passed\n",
            "Passed\n"
          ]
        }
      ]
    },
    {
      "cell_type": "markdown",
      "metadata": {
        "id": "99Rd-tdJV2T4"
      },
      "source": [
        "Problem https://edabit.com/challenge/wFpi2zFGxWxfj5mZS (2 points)"
      ]
    },
    {
      "cell_type": "code",
      "metadata": {
        "id": "vFyKj4xUVjM4"
      },
      "source": [
        "def possible_bonus(a, b):\n",
        "\treturn b-a in range(1, 7)"
      ],
      "execution_count": 40,
      "outputs": []
    },
    {
      "cell_type": "code",
      "metadata": {
        "id": "YOD80sJJWIaN",
        "colab": {
          "base_uri": "https://localhost:8080/"
        },
        "outputId": "d952a7c3-b546-40c8-b4a2-f90aec6d053f"
      },
      "source": [
        "Test.assert_equals(possible_bonus(3, 7), True)\n",
        "Test.assert_equals(possible_bonus(0, 6), True)\n",
        "Test.assert_equals(possible_bonus(1, 6), True)\n",
        "Test.assert_equals(possible_bonus(2, 6), True)\n",
        "Test.assert_equals(possible_bonus(3, 6), True)\n",
        "Test.assert_equals(possible_bonus(4, 6), True)\n",
        "Test.assert_equals(possible_bonus(5, 6), True)\n",
        "Test.assert_equals(possible_bonus(6, 6), False)\n",
        "Test.assert_equals(possible_bonus(7, 6), False)\n",
        "Test.assert_equals(possible_bonus(23, 27), True)\n",
        "Test.assert_equals(possible_bonus(1, 9), False)\n",
        "Test.assert_equals(possible_bonus(5, 3), False)"
      ],
      "execution_count": 41,
      "outputs": [
        {
          "output_type": "stream",
          "name": "stdout",
          "text": [
            "Passed\n",
            "Passed\n",
            "Passed\n",
            "Passed\n",
            "Passed\n",
            "Passed\n",
            "Passed\n",
            "Passed\n",
            "Passed\n",
            "Passed\n",
            "Passed\n",
            "Passed\n"
          ]
        }
      ]
    },
    {
      "cell_type": "markdown",
      "metadata": {
        "id": "27jvCJxOnYvE"
      },
      "source": [
        "https://edabit.com/challenge/Zerwo2AENbvRZTe83 (2 points)"
      ]
    },
    {
      "cell_type": "code",
      "metadata": {
        "id": "H1djEJXrfY5X"
      },
      "source": [
        "def next_edge(side1, side2):\n",
        "\treturn side1 + side2 - 1"
      ],
      "execution_count": 42,
      "outputs": []
    },
    {
      "cell_type": "code",
      "metadata": {
        "colab": {
          "base_uri": "https://localhost:8080/"
        },
        "id": "lJ2Q1-jenOiP",
        "outputId": "b2dbd5b4-f43e-43c0-e5bd-bee242080e57"
      },
      "source": [
        "Test.assert_equals(next_edge(5, 4), 8)\n",
        "Test.assert_equals(next_edge(8, 3), 10)\n",
        "Test.assert_equals(next_edge(7, 9), 15)\n",
        "Test.assert_equals(next_edge(10, 4), 13)\n",
        "Test.assert_equals(next_edge(7, 2), 8)"
      ],
      "execution_count": 43,
      "outputs": [
        {
          "output_type": "stream",
          "name": "stdout",
          "text": [
            "Passed\n",
            "Passed\n",
            "Passed\n",
            "Passed\n",
            "Passed\n"
          ]
        }
      ]
    },
    {
      "cell_type": "markdown",
      "metadata": {
        "id": "Ikg2cM7NnfdF"
      },
      "source": [
        "https://edabit.com/challenge/noqQNSr5o9qzvXWzL (2 points)"
      ]
    },
    {
      "cell_type": "code",
      "metadata": {
        "id": "oVeJ69nUne0T"
      },
      "source": [
        "def shift_to_right(x, y):\n",
        "\treturn x//(2**y)"
      ],
      "execution_count": 49,
      "outputs": []
    },
    {
      "cell_type": "code",
      "metadata": {
        "colab": {
          "base_uri": "https://localhost:8080/",
          "height": 232
        },
        "id": "SBBX87copi9h",
        "outputId": "61a6c0b2-640e-4379-9f69-5f06f01c9137"
      },
      "source": [
        "from inspect import getsource\n",
        "from re import findall, MULTILINE\n",
        "\n",
        "def check_op(fn):\n",
        "  try: return not len(findall(r'>>', getsource(fn), flags=MULTILINE))\n",
        "  except OSError: return True\n",
        "\n",
        "Test.assert_not_equals(check_op(shift_to_right), False,\n",
        "                       'The use of right shift operator (>>) is prohibited!')\n",
        "\n",
        "# ругается на строку выше. Очевидно, проблема в том, что 'assert_not_equals' не определен в ячейке в начале программы, которая была взята из образца д/з\n",
        "\n",
        "\n",
        "num_vector = [[80, 3], [-24, 2], [-5, 1], [38, 0], [192, 4], [4666, 6], [3777, 6], [1024, 5], [-512, 10]]\n",
        "res_vector = [10, -6, -3, 38, 12, 72, 59, 32, -1]\n",
        "for i, (x, y) in enumerate(num_vector): Test.assert_equals(shift_to_right(x, y), res_vector[i])"
      ],
      "execution_count": 50,
      "outputs": [
        {
          "output_type": "error",
          "ename": "AttributeError",
          "evalue": "ignored",
          "traceback": [
            "\u001b[0;31m---------------------------------------------------------------------------\u001b[0m",
            "\u001b[0;31mAttributeError\u001b[0m                            Traceback (most recent call last)",
            "\u001b[0;32m<ipython-input-50-f530dd8cd9d1>\u001b[0m in \u001b[0;36m<module>\u001b[0;34m()\u001b[0m\n\u001b[1;32m      6\u001b[0m   \u001b[0;32mexcept\u001b[0m \u001b[0mOSError\u001b[0m\u001b[0;34m:\u001b[0m \u001b[0;32mreturn\u001b[0m \u001b[0;32mTrue\u001b[0m\u001b[0;34m\u001b[0m\u001b[0;34m\u001b[0m\u001b[0m\n\u001b[1;32m      7\u001b[0m \u001b[0;34m\u001b[0m\u001b[0m\n\u001b[0;32m----> 8\u001b[0;31m Test.assert_not_equals(check_op(shift_to_right), False,\n\u001b[0m\u001b[1;32m      9\u001b[0m                        'The use of right shift operator (>>) is prohibited!')\n\u001b[1;32m     10\u001b[0m \u001b[0;34m\u001b[0m\u001b[0m\n",
            "\u001b[0;31mAttributeError\u001b[0m: type object 'Test' has no attribute 'assert_not_equals'"
          ]
        }
      ]
    },
    {
      "cell_type": "markdown",
      "metadata": {
        "id": "SFr9IKtkx9kN"
      },
      "source": [
        "https://edabit.com/challenge/peezjw73G8BBGfHdW (3 points)"
      ]
    },
    {
      "cell_type": "code",
      "metadata": {
        "id": "ZbwhORXkx9C0"
      },
      "source": [
        "def arithmetic_operation(n):\n",
        "  x = n.split()\n",
        "  #print(x)\n",
        "  a = int(x[0])\n",
        "  b = int(x[2])\n",
        "  if x[1] == '//':\n",
        "    if b == 0:\n",
        "      return -1\n",
        "    return a // b\n",
        "  if x[1] == '+':\n",
        "    return a + b\n",
        "  if x[1] == '-':\n",
        "    return a - b\n",
        "  if x[1] == '*':\n",
        "    return a * b"
      ],
      "execution_count": 51,
      "outputs": []
    },
    {
      "cell_type": "code",
      "metadata": {
        "colab": {
          "base_uri": "https://localhost:8080/"
        },
        "id": "ouO8hhvnx-bw",
        "outputId": "a9f2be0c-49c8-4fb5-976e-37f488f4d96d"
      },
      "source": [
        "Test.assert_equals(arithmetic_operation(\"12 + 12\"), 24)\n",
        "Test.assert_equals(arithmetic_operation(\"22 - 12\"), 10)\n",
        "Test.assert_equals(arithmetic_operation(\"100 * 12\"), 1200)\n",
        "Test.assert_equals(arithmetic_operation(\"120 // 10\"), 12)\n",
        "Test.assert_equals(arithmetic_operation(\"122 // 0\"), -1)\n",
        "Test.assert_equals(arithmetic_operation(\"10 * 20\"), 200)\n",
        "Test.assert_equals(arithmetic_operation(\"10 - 10\"), 0)\n",
        "Test.assert_equals(arithmetic_operation(\"10 - 12\"), -2)"
      ],
      "execution_count": 52,
      "outputs": [
        {
          "output_type": "stream",
          "name": "stdout",
          "text": [
            "Passed\n",
            "Passed\n",
            "Passed\n",
            "Passed\n",
            "Passed\n",
            "Passed\n",
            "Passed\n",
            "Passed\n"
          ]
        }
      ]
    },
    {
      "cell_type": "markdown",
      "metadata": {
        "id": "J56oR28t5cgW"
      },
      "source": [
        "https://edabit.com/challenge/f3jX2BwzAuR8DXsy4 (3 points)"
      ]
    },
    {
      "cell_type": "code",
      "metadata": {
        "id": "fELqI9yS5dnI"
      },
      "source": [
        "def fact_of_fact(n):\n",
        "  k = 1\n",
        "  for x in range(1, n+1):\n",
        "    for i in range(1, x+1):\n",
        "      k = k * i\n",
        "  return k"
      ],
      "execution_count": 53,
      "outputs": []
    },
    {
      "cell_type": "code",
      "metadata": {
        "colab": {
          "base_uri": "https://localhost:8080/"
        },
        "id": "tkMJ004W5dM3",
        "outputId": "2a5f7709-fc81-4c08-f28e-06852e4fbcda"
      },
      "source": [
        "Test.assert_equals(fact_of_fact(4), 288),\n",
        "Test.assert_equals(fact_of_fact(1), 1),\n",
        "Test.assert_equals(fact_of_fact(5), 34560),\n",
        "Test.assert_equals(fact_of_fact(2), 2),\n",
        "Test.assert_equals(fact_of_fact(6), 24883200),\n",
        "Test.assert_equals(fact_of_fact(3), 12),\n",
        "Test.assert_equals(fact_of_fact(14), 69113789582492712943486800506462734562847413501952000000000000000),\n",
        "Test.assert_equals(fact_of_fact(11), 265790267296391946810949632000000000),\n",
        "Test.assert_equals(fact_of_fact(7), 125411328000),\n",
        "Test.assert_equals(fact_of_fact(22), 73185187344722251685917129061596359994436879170423331597220791224873045503248922811481956548134913475324429128068839519292427638045690327208977109451014144000000000000000000000000000000000000000000),\n",
        "Test.assert_equals(fact_of_fact(13), 792786697595796795607377086400871488552960000000000000),\n",
        "Test.assert_equals(fact_of_fact(8), 5056584744960000),\n",
        "Test.assert_equals(fact_of_fact(10), 6658606584104736522240000000),\n",
        "Test.assert_equals(fact_of_fact(9), 1834933472251084800000 ),\n",
        "Test.assert_equals(fact_of_fact(12), 127313963299399416749559771247411200000000000 ),\n",
        "Test.assert_equals(fact_of_fact(15), 90378331112371142262979521568630736335023247731599748366336000000000000000000 ),\n",
        "Test.assert_equals(fact_of_fact(16), 1890966832292234727042877370627225068196418587883634153182519380410368000000000000000000000 ),\n",
        "Test.assert_equals(fact_of_fact(17), 672593129192865130334217631473916658864122332882577979675277211683839238972899328000000000000000000000000 ),\n",
        "Test.assert_equals(fact_of_fact(18), 4306192564997715382115598640379294845786123319603755168023536027873932927153136831171640950784000000000000000000000000000 ),\n",
        "Test.assert_equals(fact_of_fact(19), 523827226948912906162136183269887782788685420217963126789982275317725639664591791615428617583779071590924288000000000000000000000000000000 ),\n",
        "Test.assert_equals(fact_of_fact(20), 1274420312381610764187232669591245728094053576480399681464607478621086015845192873311847341571189522511934190056991170232320000000000000000000000000000000000 ),\n",
        "Test.assert_equals(fact_of_fact(21), 65111334482340755583337032079153276047018894694274871209973336023462275586396482041798135409436085152342597056410325664391109570976337100800000000000000000000000000000000000000 ),\n",
        "\n",
        "# Mubashir"
      ],
      "execution_count": 54,
      "outputs": [
        {
          "output_type": "stream",
          "name": "stdout",
          "text": [
            "Passed\n",
            "Passed\n",
            "Passed\n",
            "Passed\n",
            "Passed\n",
            "Passed\n",
            "Passed\n",
            "Passed\n",
            "Passed\n",
            "Passed\n",
            "Passed\n",
            "Passed\n",
            "Passed\n",
            "Passed\n",
            "Passed\n",
            "Passed\n",
            "Passed\n",
            "Passed\n",
            "Passed\n",
            "Passed\n",
            "Passed\n",
            "Passed\n"
          ]
        },
        {
          "output_type": "execute_result",
          "data": {
            "text/plain": [
              "(None,)"
            ]
          },
          "metadata": {},
          "execution_count": 54
        }
      ]
    },
    {
      "cell_type": "markdown",
      "metadata": {
        "id": "fIL8MQJx71nh"
      },
      "source": [
        "https://edabit.com/challenge/cXnkmRdxqJrwdsP4n (1 point)"
      ]
    },
    {
      "cell_type": "code",
      "metadata": {
        "id": "xyM8drxB72Tu"
      },
      "source": [
        "def dis(price, discount):\n",
        "\treturn round(price - price * discount / 100, 2)"
      ],
      "execution_count": 55,
      "outputs": []
    },
    {
      "cell_type": "code",
      "metadata": {
        "colab": {
          "base_uri": "https://localhost:8080/"
        },
        "id": "DSE0n4Gu71O4",
        "outputId": "9353a313-1252-40ec-9626-e03ff5b7e4fd"
      },
      "source": [
        "Test.assert_equals(dis(100, 75), 25)\n",
        "Test.assert_equals(dis(211, 50), 105.5)\n",
        "Test.assert_equals(dis(593, 61), 231.27)\n",
        "Test.assert_equals(dis(1693, 80), 338.6)\n",
        "Test.assert_equals(dis(700, 10), 630)"
      ],
      "execution_count": 56,
      "outputs": [
        {
          "output_type": "stream",
          "name": "stdout",
          "text": [
            "Passed\n",
            "Passed\n",
            "Passed\n",
            "Passed\n",
            "Passed\n"
          ]
        }
      ]
    }
  ]
}